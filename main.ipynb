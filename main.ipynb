{
 "cells": [
  {
   "cell_type": "code",
   "execution_count": 1,
   "metadata": {},
   "outputs": [],
   "source": [
    "%load_ext autoreload\n",
    "%autoreload 2"
   ]
  },
  {
   "cell_type": "code",
   "execution_count": 2,
   "metadata": {},
   "outputs": [],
   "source": [
    "import pandas as pd\n",
    "import numpy as np\n",
    "import copy\n",
    "import os\n",
    "path = os.getcwd()"
   ]
  },
  {
   "cell_type": "code",
   "execution_count": 3,
   "metadata": {},
   "outputs": [
    {
     "name": "stderr",
     "output_type": "stream",
     "text": [
      "INFO:NferxLogger:URL: https://staging.nferx.com/api/is_authenticated, process-time: 0.3808112144470215\n"
     ]
    }
   ],
   "source": [
    "from helper_functions.get_model_predictions import get_model_predictions\n",
    "from helper_functions.get_BERT_vectors import get_BERT_vectors\n",
    "from helper_functions.get_sentences import get_sentences\n",
    "from helper_functions.get_similarity_matrix import get_similarity_matrix\n",
    "from helper_functions.get_similar_sentences import get_similar_sentences \n",
    "from helper_functions.sample_new_sentences_per_original import sample_new_sentences_per_original"
   ]
  },
  {
   "cell_type": "code",
   "execution_count": 4,
   "metadata": {},
   "outputs": [],
   "source": [
    "#read in the original set of sentences\n",
    "df_old = pd.read_csv('starting_data/orig_data.csv')"
   ]
  },
  {
   "cell_type": "code",
   "execution_count": 5,
   "metadata": {},
   "outputs": [
    {
     "name": "stdout",
     "output_type": "stream",
     "text": [
      "https://pre-staging.nferx.com/tagrecorder/v1/getModelServingStatus\n",
      "Using model server:  http://dev13.nferx.com:9001/predict\n"
     ]
    }
   ],
   "source": [
    "#get the predictions using the current model\n",
    "df_old = get_model_predictions(df_old,\n",
    "                               'Drug_to_Target_20210519',\n",
    "                               'model_01_060221_agree_2', \n",
    "                               'Classification',\n",
    "                               'public')"
   ]
  },
  {
   "cell_type": "code",
   "execution_count": 6,
   "metadata": {},
   "outputs": [],
   "source": [
    "#keep just the cases where predicted label doesn't match manual label\n",
    "#these are the sentences you want to boost \n",
    "df_old = df_old[df_old.label!=df_old.predicted_label]"
   ]
  },
  {
   "cell_type": "code",
   "execution_count": 7,
   "metadata": {},
   "outputs": [
    {
     "name": "stdout",
     "output_type": "stream",
     "text": [
      "getting sentences for 56 inputs\n"
     ]
    },
    {
     "data": {
      "application/vnd.jupyter.widget-view+json": {
       "model_id": "96a6745154394726a7547a0ce91922e9",
       "version_major": 2,
       "version_minor": 0
      },
      "text/plain": [
       "HBox(children=(FloatProgress(value=0.0, max=56.0), HTML(value='')))"
      ]
     },
     "metadata": {},
     "output_type": "display_data"
    },
    {
     "name": "stdout",
     "output_type": "stream",
     "text": [
      "\n",
      "fetched 21238 sentences in 44.41176247596741 seconds\n",
      "0 inputs failed to get sentences\n"
     ]
    }
   ],
   "source": [
    "#feed input into get sentences. use the same pairs from the old data\n",
    "df_new = copy.deepcopy(df_old)\n",
    "df_new = df_new[['entity1', 'entity2']].drop_duplicates()\n",
    "df_new['max_count(default=1000)'] = [500] * len(df_new)\n",
    "df_new['window(default=30)'] = [20] * len(df_new)\n",
    "df_new['corpus(default=core)'] = [None] * len(df_new)\n",
    "df_new['doc_token(default=None)'] = [None] * len(df_new)\n",
    "\n",
    "failed, df_new = get_sentences(df_new)\n",
    "\n",
    "print('{} inputs failed to get sentences'.format(len(failed)))"
   ]
  },
  {
   "cell_type": "code",
   "execution_count": 8,
   "metadata": {},
   "outputs": [],
   "source": [
    "df_new = df_new.sample(n = 5000)"
   ]
  },
  {
   "cell_type": "code",
   "execution_count": 9,
   "metadata": {},
   "outputs": [
    {
     "data": {
      "application/vnd.jupyter.widget-view+json": {
       "model_id": "d981695244ed4c599095f42c34b98ba6",
       "version_major": 2,
       "version_minor": 0
      },
      "text/plain": [
       "HBox(children=(FloatProgress(value=0.0, description='Batches', max=8.0, style=ProgressStyle(description_width=…"
      ]
     },
     "metadata": {},
     "output_type": "display_data"
    },
    {
     "name": "stdout",
     "output_type": "stream",
     "text": [
      "\n"
     ]
    },
    {
     "data": {
      "application/vnd.jupyter.widget-view+json": {
       "model_id": "8e2cfd35d0284cd187c0ab3334a82b02",
       "version_major": 2,
       "version_minor": 0
      },
      "text/plain": [
       "HBox(children=(FloatProgress(value=0.0, description='Batches', max=625.0, style=ProgressStyle(description_widt…"
      ]
     },
     "metadata": {},
     "output_type": "display_data"
    },
    {
     "name": "stdout",
     "output_type": "stream",
     "text": [
      "\n"
     ]
    }
   ],
   "source": [
    "#get vectors for old and new sentences to be able to compare them \n",
    "old_vectors = get_BERT_vectors(df_old)\n",
    "np.save('intermediate_data/old_vectors.npy', old_vectors)\n",
    "new_vectors = get_BERT_vectors(df_new)\n",
    "np.save('intermediate_data/new_vectors.npy', new_vectors)"
   ]
  },
  {
   "cell_type": "code",
   "execution_count": 10,
   "metadata": {},
   "outputs": [],
   "source": [
    "#add the vectors as a column to the dataframes\n",
    "\n",
    "new_vectors = np.load(path+ '/'+'intermediate_data/new_vectors.npy')\n",
    "df_new['vec'] = list(new_vectors)\n",
    "old_vectors = np.load(path+ '/'+'intermediate_data/old_vectors.npy')\n",
    "df_old['vec'] = list(old_vectors)"
   ]
  },
  {
   "cell_type": "code",
   "execution_count": 11,
   "metadata": {},
   "outputs": [
    {
     "data": {
      "application/vnd.jupyter.widget-view+json": {
       "model_id": "c0d7acff3bb3449fa2c7ca34dcacff70",
       "version_major": 2,
       "version_minor": 0
      },
      "text/plain": [
       "HBox(children=(FloatProgress(value=0.0, max=58.0), HTML(value='')))"
      ]
     },
     "metadata": {},
     "output_type": "display_data"
    },
    {
     "name": "stdout",
     "output_type": "stream",
     "text": [
      "\n"
     ]
    }
   ],
   "source": [
    "# save the similarity matrix\n",
    "# next step might require multiple re-runs with different parameters\n",
    "# to get desired numbers\n",
    "mat = get_similarity_matrix(df_old, df_new)\n",
    "np.save('intermediate_data/sim_matrix.npy', mat)"
   ]
  },
  {
   "cell_type": "code",
   "execution_count": 12,
   "metadata": {},
   "outputs": [
    {
     "data": {
      "application/vnd.jupyter.widget-view+json": {
       "model_id": "9c03af84fddf4c758858ad6700385e26",
       "version_major": 2,
       "version_minor": 0
      },
      "text/plain": [
       "HBox(children=(FloatProgress(value=0.0, max=58.0), HTML(value='')))"
      ]
     },
     "metadata": {},
     "output_type": "display_data"
    },
    {
     "name": "stdout",
     "output_type": "stream",
     "text": [
      "\n"
     ]
    }
   ],
   "source": [
    "mat = np.load(path+ '/'+'intermediate_data/sim_matrix.npy')\n",
    "res = get_similar_sentences(df_new, mat, min_sim = 0.607, max_sim = 0.975, diff = 0.0015)"
   ]
  },
  {
   "cell_type": "code",
   "execution_count": 18,
   "metadata": {},
   "outputs": [],
   "source": [
    "res = sample_new_sentences_per_original(res, 5)"
   ]
  },
  {
   "cell_type": "code",
   "execution_count": 19,
   "metadata": {},
   "outputs": [],
   "source": [
    "res.to_csv(path+ '/'+'final_data/final.csv', index = False)\n",
    "res[['sentence', 'entity1', 'entity2']].to_csv(path+ '/'+'final_data/final.tsv', index = False)"
   ]
  },
  {
   "cell_type": "code",
   "execution_count": null,
   "metadata": {},
   "outputs": [],
   "source": []
  }
 ],
 "metadata": {
  "kernelspec": {
   "display_name": "Python 3",
   "language": "python",
   "name": "python3"
  },
  "language_info": {
   "codemirror_mode": {
    "name": "ipython",
    "version": 3
   },
   "file_extension": ".py",
   "mimetype": "text/x-python",
   "name": "python",
   "nbconvert_exporter": "python",
   "pygments_lexer": "ipython3",
   "version": "3.6.9"
  }
 },
 "nbformat": 4,
 "nbformat_minor": 4
}
