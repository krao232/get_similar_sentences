{
 "cells": [
  {
   "cell_type": "code",
   "execution_count": 1,
   "metadata": {},
   "outputs": [],
   "source": [
    "import pandas as pd\n",
    "import numpy as np\n",
    "import copy"
   ]
  },
  {
   "cell_type": "code",
   "execution_count": 2,
   "metadata": {},
   "outputs": [
    {
     "name": "stderr",
     "output_type": "stream",
     "text": [
      "INFO:NferxLogger:URL: https://staging.nferx.com/api/is_authenticated, process-time: 0.3414154052734375\n"
     ]
    }
   ],
   "source": [
    "from helper_functions.get_model_predictions import get_model_predictions\n",
    "from helper_functions.get_BERT_vectors import get_BERT_vectors\n",
    "from helper_functions.get_sentences import get_sentences\n",
    "from helper_functions.get_similarity_matrix import get_similarity_matrix\n",
    "from helper_functions.get_similar_sentences import get_similar_sentences \n",
    "from helper_functions.sample_new_sentences_per_original import sample_new_sentences_per_original"
   ]
  },
  {
   "cell_type": "code",
   "execution_count": 3,
   "metadata": {},
   "outputs": [],
   "source": [
    "df_old = pd.read_csv('starting_data/orig_data.csv')"
   ]
  },
  {
   "cell_type": "code",
   "execution_count": 4,
   "metadata": {},
   "outputs": [
    {
     "name": "stdout",
     "output_type": "stream",
     "text": [
      "https://pre-staging.nferx.com/tagrecorder/v1/getModelServingStatus\n",
      "Using model server:  http://dev13.nferx.com:9001/predict\n"
     ]
    }
   ],
   "source": [
    "df_old = get_model_predictions(df_old,\n",
    "                               'Drug_to_Target_20210519',\n",
    "                               'model_01_060221_agree_2', \n",
    "                               'Classification',\n",
    "                               'public')"
   ]
  },
  {
   "cell_type": "code",
   "execution_count": 5,
   "metadata": {},
   "outputs": [],
   "source": [
    "df_old = df_old[df_old.label!=df_old.predicted_label]"
   ]
  },
  {
   "cell_type": "code",
   "execution_count": 6,
   "metadata": {},
   "outputs": [
    {
     "name": "stdout",
     "output_type": "stream",
     "text": [
      "getting sentences for 56 inputs\n"
     ]
    },
    {
     "data": {
      "application/vnd.jupyter.widget-view+json": {
       "model_id": "83dc82ea1a1b44a684c9221082d07f49",
       "version_major": 2,
       "version_minor": 0
      },
      "text/plain": [
       "HBox(children=(FloatProgress(value=0.0, max=56.0), HTML(value='')))"
      ]
     },
     "metadata": {},
     "output_type": "display_data"
    },
    {
     "name": "stdout",
     "output_type": "stream",
     "text": [
      "\n",
      "fetched 21249 sentences in 44.22328424453735 seconds\n",
      "0 inputs failed to get sentences\n"
     ]
    }
   ],
   "source": [
    "df_new = copy.deepcopy(df_old)\n",
    "df_new = df_new[['entity1', 'entity2']].drop_duplicates()\n",
    "df_new['max_count(default=1000)'] = [500] * len(df_new)\n",
    "df_new['window(default=30)'] = [20] * len(df_new)\n",
    "df_new['corpus(default=core)'] = [None] * len(df_new)\n",
    "df_new['doc_token(default=None)'] = [None] * len(df_new)\n",
    "\n",
    "failed, df_new = get_sentences(df_new)\n",
    "\n",
    "print('{} inputs failed to get sentences'.format(len(failed)))"
   ]
  },
  {
   "cell_type": "code",
   "execution_count": 7,
   "metadata": {},
   "outputs": [],
   "source": [
    "df_new = df_new.sample(n = 1000)"
   ]
  },
  {
   "cell_type": "code",
   "execution_count": 8,
   "metadata": {},
   "outputs": [
    {
     "data": {
      "application/vnd.jupyter.widget-view+json": {
       "model_id": "41f81b1db2af4d789354753070c471cd",
       "version_major": 2,
       "version_minor": 0
      },
      "text/plain": [
       "HBox(children=(FloatProgress(value=0.0, description='Batches', max=8.0, style=ProgressStyle(description_width=…"
      ]
     },
     "metadata": {},
     "output_type": "display_data"
    },
    {
     "name": "stdout",
     "output_type": "stream",
     "text": [
      "\n"
     ]
    },
    {
     "data": {
      "application/vnd.jupyter.widget-view+json": {
       "model_id": "40451b54be5b468bae258a7b2f4441a9",
       "version_major": 2,
       "version_minor": 0
      },
      "text/plain": [
       "HBox(children=(FloatProgress(value=0.0, description='Batches', max=125.0, style=ProgressStyle(description_widt…"
      ]
     },
     "metadata": {},
     "output_type": "display_data"
    },
    {
     "name": "stdout",
     "output_type": "stream",
     "text": [
      "\n"
     ]
    }
   ],
   "source": [
    "old_vectors = get_BERT_vectors(df_old)\n",
    "np.save('intermediate_data/old_vectors.npy', old_vectors)\n",
    "new_vectors = get_BERT_vectors(df_new)\n",
    "np.save('intermediate_data/new_vectors.npy', new_vectors)"
   ]
  },
  {
   "cell_type": "code",
   "execution_count": 9,
   "metadata": {},
   "outputs": [],
   "source": [
    "import os\n",
    "path = os.getcwd()\n",
    "new_vectors = np.load(path+ '/'+'intermediate_data/new_vectors.npy')\n",
    "df_new['vec'] = list(new_vectors)\n",
    "old_vectors = np.load(path+ '/'+'intermediate_data/old_vectors.npy')\n",
    "df_old['vec'] = list(old_vectors)"
   ]
  },
  {
   "cell_type": "code",
   "execution_count": 10,
   "metadata": {},
   "outputs": [
    {
     "data": {
      "application/vnd.jupyter.widget-view+json": {
       "model_id": "42baee65e40d4c96ab7c68765aa08ee3",
       "version_major": 2,
       "version_minor": 0
      },
      "text/plain": [
       "HBox(children=(FloatProgress(value=0.0, max=58.0), HTML(value='')))"
      ]
     },
     "metadata": {},
     "output_type": "display_data"
    },
    {
     "name": "stdout",
     "output_type": "stream",
     "text": [
      "\n"
     ]
    }
   ],
   "source": [
    "mat = get_similarity_matrix(df_old, df_new)\n",
    "np.save('intermediate_data/sim_matrix.npy', mat)"
   ]
  },
  {
   "cell_type": "code",
   "execution_count": 11,
   "metadata": {},
   "outputs": [],
   "source": []
  },
  {
   "cell_type": "code",
   "execution_count": 13,
   "metadata": {},
   "outputs": [
    {
     "data": {
      "application/vnd.jupyter.widget-view+json": {
       "model_id": "2de3b9ea1ef14187b666b34ad3b2d96c",
       "version_major": 2,
       "version_minor": 0
      },
      "text/plain": [
       "HBox(children=(FloatProgress(value=0.0, max=58.0), HTML(value='')))"
      ]
     },
     "metadata": {},
     "output_type": "display_data"
    },
    {
     "name": "stdout",
     "output_type": "stream",
     "text": [
      "\n",
      "found 381 similar sentences\n"
     ]
    }
   ],
   "source": [
    "mat = np.load(path+ '/'+'intermediate_data/sim_matrix.npy')\n",
    "res = get_similar_sentences(df_new, mat, min_sim = 0.607, max_sim = 0.975, diff = 0.0015)"
   ]
  },
  {
   "cell_type": "code",
   "execution_count": 14,
   "metadata": {},
   "outputs": [
    {
     "data": {
      "text/html": [
       "<div>\n",
       "<style scoped>\n",
       "    .dataframe tbody tr th:only-of-type {\n",
       "        vertical-align: middle;\n",
       "    }\n",
       "\n",
       "    .dataframe tbody tr th {\n",
       "        vertical-align: top;\n",
       "    }\n",
       "\n",
       "    .dataframe thead th {\n",
       "        text-align: right;\n",
       "    }\n",
       "</style>\n",
       "<table border=\"1\" class=\"dataframe\">\n",
       "  <thead>\n",
       "    <tr style=\"text-align: right;\">\n",
       "      <th></th>\n",
       "      <th>entity1</th>\n",
       "      <th>entity2</th>\n",
       "      <th>sentence</th>\n",
       "      <th>is_sentence_valid</th>\n",
       "      <th>doc_id</th>\n",
       "      <th>doc_title</th>\n",
       "      <th>doc_url</th>\n",
       "      <th>doc_source</th>\n",
       "      <th>date_published</th>\n",
       "      <th>entity1_input</th>\n",
       "      <th>entity2_input</th>\n",
       "      <th>sentence_entity</th>\n",
       "      <th>vec</th>\n",
       "    </tr>\n",
       "  </thead>\n",
       "  <tbody>\n",
       "    <tr>\n",
       "      <th>242</th>\n",
       "      <td>ly3009120</td>\n",
       "      <td>braf</td>\n",
       "      <td>different types of BRAF, CRAF, pan-RAF, MEK in...</td>\n",
       "      <td>True</td>\n",
       "      <td>32886624</td>\n",
       "      <td>Combinations to treat cancer</td>\n",
       "      <td>http://patft.uspto.gov/netacgi/nph-Parser?Sect...</td>\n",
       "      <td>patent_grant</td>\n",
       "      <td>1.608595e+09</td>\n",
       "      <td>LY3009120</td>\n",
       "      <td>BRaf</td>\n",
       "      <td>different types of @entityb$ , CRAF, pan-RAF, ...</td>\n",
       "      <td>[-0.044095244, -0.55621725, -0.04246768, 0.866...</td>\n",
       "    </tr>\n",
       "    <tr>\n",
       "      <th>462</th>\n",
       "      <td>minocycline</td>\n",
       "      <td>angiostatin</td>\n",
       "      <td>Examples of antitumor agents include, but are ...</td>\n",
       "      <td>True</td>\n",
       "      <td>107969068</td>\n",
       "      <td>TARGETING CANCER CELLS AND TISSUE USING FILAME...</td>\n",
       "      <td>http://appft1.uspto.gov/netacgi/nph-Parser?Sec...</td>\n",
       "      <td>patent_filed</td>\n",
       "      <td>1.613002e+09</td>\n",
       "      <td>Minocycline</td>\n",
       "      <td>Angiostatin</td>\n",
       "      <td>Examples of antitumor agents include, but are ...</td>\n",
       "      <td>[0.23034076, -0.43675545, 0.2127766, 0.5939804...</td>\n",
       "    </tr>\n",
       "    <tr>\n",
       "      <th>771</th>\n",
       "      <td>3m-052</td>\n",
       "      <td>tlr7</td>\n",
       "      <td>3M-052 stimulates the production of IL8 in HEK...</td>\n",
       "      <td>True</td>\n",
       "      <td>21622699</td>\n",
       "      <td>Telratolimod</td>\n",
       "      <td>https://www.selleckchem.com/products/telratoli...</td>\n",
       "      <td>selleckchem</td>\n",
       "      <td>NaN</td>\n",
       "      <td>3M-052</td>\n",
       "      <td>TLR7</td>\n",
       "      <td>@entitya$ stimulates the production of IL8 in...</td>\n",
       "      <td>[-0.18487829, -0.6179698, -1.3152862, -0.16722...</td>\n",
       "    </tr>\n",
       "    <tr>\n",
       "      <th>49</th>\n",
       "      <td>ly3009120</td>\n",
       "      <td>braf</td>\n",
       "      <td>had similar sensitivities to the RAF dimer inh...</td>\n",
       "      <td>True</td>\n",
       "      <td>39533435</td>\n",
       "      <td>The dimer-dependent catalytic activity of RAF ...</td>\n",
       "      <td>https://www.nature.com/articles/s41388-018-0365-2</td>\n",
       "      <td>nature</td>\n",
       "      <td>1.529532e+09</td>\n",
       "      <td>LY3009120</td>\n",
       "      <td>BRaf</td>\n",
       "      <td>had similar sensitivities to the RAF dimer inh...</td>\n",
       "      <td>[0.2509087, -0.5665901, -0.055666834, 0.482895...</td>\n",
       "    </tr>\n",
       "    <tr>\n",
       "      <th>717</th>\n",
       "      <td>3m-052</td>\n",
       "      <td>tlr7</td>\n",
       "      <td>In vitro modeling identified 3M-052 as a lipid...</td>\n",
       "      <td>True</td>\n",
       "      <td>18437711</td>\n",
       "      <td>TLR7/8 adjuvant overcomes newborn hyporesponsi...</td>\n",
       "      <td>https://www.ncbi.nlm.nih.gov/pmc/articles/PMC5...</td>\n",
       "      <td>pmc</td>\n",
       "      <td>1.490227e+09</td>\n",
       "      <td>3M-052</td>\n",
       "      <td>TLR7</td>\n",
       "      <td>In vitro modeling identified @entitya$ as a li...</td>\n",
       "      <td>[-0.09392955, -0.14364569, -0.35164014, 0.0481...</td>\n",
       "    </tr>\n",
       "    <tr>\n",
       "      <th>295</th>\n",
       "      <td>ly3009120</td>\n",
       "      <td>braf</td>\n",
       "      <td>Similarly, Peng et al reported the development...</td>\n",
       "      <td>True</td>\n",
       "      <td>92953300</td>\n",
       "      <td>Acquired BRAF rearrangements induce secondary ...</td>\n",
       "      <td>https://www.ncbi.nlm.nih.gov/pmc/articles/PMC6...</td>\n",
       "      <td>pmc</td>\n",
       "      <td>1.551398e+09</td>\n",
       "      <td>LY3009120</td>\n",
       "      <td>BRaf</td>\n",
       "      <td>Similarly, Peng et al reported the development...</td>\n",
       "      <td>[-0.7187324, -0.3205457, 0.29959294, 0.5385191...</td>\n",
       "    </tr>\n",
       "    <tr>\n",
       "      <th>531</th>\n",
       "      <td>minocycline</td>\n",
       "      <td>angiostatin</td>\n",
       "      <td>Medi-522 (Vitaxin II), CAI, interleukin 12, IM...</td>\n",
       "      <td>True</td>\n",
       "      <td>104273493</td>\n",
       "      <td>S100A4 ANTIBODIES AND THERAPEUTIC USES THEREOF</td>\n",
       "      <td>https://data.epo.org/publication-server/rest/v...</td>\n",
       "      <td>epo</td>\n",
       "      <td>1.543360e+09</td>\n",
       "      <td>Minocycline</td>\n",
       "      <td>Angiostatin</td>\n",
       "      <td>Medi-522 (Vitaxin II), CAI, interleukin 12, IM...</td>\n",
       "      <td>[0.008965074, -0.045161266, 0.04292685, 0.9912...</td>\n",
       "    </tr>\n",
       "    <tr>\n",
       "      <th>731</th>\n",
       "      <td>3m-052</td>\n",
       "      <td>tlr7</td>\n",
       "      <td>surprised to find that pDC and type I IFN were...</td>\n",
       "      <td>True</td>\n",
       "      <td>83894424</td>\n",
       "      <td>Effective innate and adaptive anti-melanoma im...</td>\n",
       "      <td>https://www.ncbi.nlm.nih.gov/pmc/articles/PMC4...</td>\n",
       "      <td>pmc</td>\n",
       "      <td>1.411517e+09</td>\n",
       "      <td>3M-052</td>\n",
       "      <td>TLR7</td>\n",
       "      <td>surprised to find that pDC and type I IFN were...</td>\n",
       "      <td>[0.6186689, -1.4740883, -0.5704437, -0.3111165...</td>\n",
       "    </tr>\n",
       "    <tr>\n",
       "      <th>946</th>\n",
       "      <td>ly3009120</td>\n",
       "      <td>braf</td>\n",
       "      <td>Further analyses demonstrated that LY3009120 a...</td>\n",
       "      <td>True</td>\n",
       "      <td>70852919</td>\n",
       "      <td>Inhibition of RAF Isoforms and Active Dimers b...</td>\n",
       "      <td>https://www.ncbi.nlm.nih.gov/pubmed/26343583</td>\n",
       "      <td>pubmed</td>\n",
       "      <td>1.442182e+09</td>\n",
       "      <td>LY3009120</td>\n",
       "      <td>BRAF</td>\n",
       "      <td>Further analyses demonstrated that @entitya$ a...</td>\n",
       "      <td>[0.36473313, -0.3090902, 0.6374208, 0.9147596,...</td>\n",
       "    </tr>\n",
       "    <tr>\n",
       "      <th>863</th>\n",
       "      <td>ly3009120</td>\n",
       "      <td>braf</td>\n",
       "      <td>H2405 xenograft model, treatment of LY3009120 ...</td>\n",
       "      <td>True</td>\n",
       "      <td>62900787</td>\n",
       "      <td>Oncogenic BRAF Deletions That Function as Homo...</td>\n",
       "      <td>https://www.ncbi.nlm.nih.gov/pubmed/26732095</td>\n",
       "      <td>pubmed</td>\n",
       "      <td>1.459289e+09</td>\n",
       "      <td>LY3009120</td>\n",
       "      <td>BRAF</td>\n",
       "      <td>H2405 xenograft model, treatment of @entitya$ ...</td>\n",
       "      <td>[0.76255935, -0.39099362, 0.30664283, 0.169941...</td>\n",
       "    </tr>\n",
       "    <tr>\n",
       "      <th>904</th>\n",
       "      <td>ly3009120</td>\n",
       "      <td>braf</td>\n",
       "      <td>vivo inhibition of BRAF V600E mutant in human ...</td>\n",
       "      <td>True</td>\n",
       "      <td>67946898</td>\n",
       "      <td>In vivo inhibition of BRAF V600E mutant in hum...</td>\n",
       "      <td>https://pubchem.ncbi.nlm.nih.gov/bioassay/1226884</td>\n",
       "      <td>bioassay</td>\n",
       "      <td>NaN</td>\n",
       "      <td>LY3009120</td>\n",
       "      <td>BRAF</td>\n",
       "      <td>vivo inhibition of @entityb$ V600E mutant in h...</td>\n",
       "      <td>[0.06020808, 0.21916056, 0.10410416, 1.2883214...</td>\n",
       "    </tr>\n",
       "  </tbody>\n",
       "</table>\n",
       "</div>"
      ],
      "text/plain": [
       "         entity1      entity2  \\\n",
       "242    ly3009120         braf   \n",
       "462  minocycline  angiostatin   \n",
       "771       3m-052         tlr7   \n",
       "49     ly3009120         braf   \n",
       "717       3m-052         tlr7   \n",
       "295    ly3009120         braf   \n",
       "531  minocycline  angiostatin   \n",
       "731       3m-052         tlr7   \n",
       "946    ly3009120         braf   \n",
       "863    ly3009120         braf   \n",
       "904    ly3009120         braf   \n",
       "\n",
       "                                              sentence  is_sentence_valid  \\\n",
       "242  different types of BRAF, CRAF, pan-RAF, MEK in...               True   \n",
       "462  Examples of antitumor agents include, but are ...               True   \n",
       "771  3M-052 stimulates the production of IL8 in HEK...               True   \n",
       "49   had similar sensitivities to the RAF dimer inh...               True   \n",
       "717  In vitro modeling identified 3M-052 as a lipid...               True   \n",
       "295  Similarly, Peng et al reported the development...               True   \n",
       "531  Medi-522 (Vitaxin II), CAI, interleukin 12, IM...               True   \n",
       "731  surprised to find that pDC and type I IFN were...               True   \n",
       "946  Further analyses demonstrated that LY3009120 a...               True   \n",
       "863  H2405 xenograft model, treatment of LY3009120 ...               True   \n",
       "904  vivo inhibition of BRAF V600E mutant in human ...               True   \n",
       "\n",
       "        doc_id                                          doc_title  \\\n",
       "242   32886624                       Combinations to treat cancer   \n",
       "462  107969068  TARGETING CANCER CELLS AND TISSUE USING FILAME...   \n",
       "771   21622699                                       Telratolimod   \n",
       "49    39533435  The dimer-dependent catalytic activity of RAF ...   \n",
       "717   18437711  TLR7/8 adjuvant overcomes newborn hyporesponsi...   \n",
       "295   92953300  Acquired BRAF rearrangements induce secondary ...   \n",
       "531  104273493     S100A4 ANTIBODIES AND THERAPEUTIC USES THEREOF   \n",
       "731   83894424  Effective innate and adaptive anti-melanoma im...   \n",
       "946   70852919  Inhibition of RAF Isoforms and Active Dimers b...   \n",
       "863   62900787  Oncogenic BRAF Deletions That Function as Homo...   \n",
       "904   67946898  In vivo inhibition of BRAF V600E mutant in hum...   \n",
       "\n",
       "                                               doc_url    doc_source  \\\n",
       "242  http://patft.uspto.gov/netacgi/nph-Parser?Sect...  patent_grant   \n",
       "462  http://appft1.uspto.gov/netacgi/nph-Parser?Sec...  patent_filed   \n",
       "771  https://www.selleckchem.com/products/telratoli...   selleckchem   \n",
       "49   https://www.nature.com/articles/s41388-018-0365-2        nature   \n",
       "717  https://www.ncbi.nlm.nih.gov/pmc/articles/PMC5...           pmc   \n",
       "295  https://www.ncbi.nlm.nih.gov/pmc/articles/PMC6...           pmc   \n",
       "531  https://data.epo.org/publication-server/rest/v...           epo   \n",
       "731  https://www.ncbi.nlm.nih.gov/pmc/articles/PMC4...           pmc   \n",
       "946       https://www.ncbi.nlm.nih.gov/pubmed/26343583        pubmed   \n",
       "863       https://www.ncbi.nlm.nih.gov/pubmed/26732095        pubmed   \n",
       "904  https://pubchem.ncbi.nlm.nih.gov/bioassay/1226884      bioassay   \n",
       "\n",
       "     date_published entity1_input entity2_input  \\\n",
       "242    1.608595e+09     LY3009120          BRaf   \n",
       "462    1.613002e+09   Minocycline   Angiostatin   \n",
       "771             NaN        3M-052          TLR7   \n",
       "49     1.529532e+09     LY3009120          BRaf   \n",
       "717    1.490227e+09        3M-052          TLR7   \n",
       "295    1.551398e+09     LY3009120          BRaf   \n",
       "531    1.543360e+09   Minocycline   Angiostatin   \n",
       "731    1.411517e+09        3M-052          TLR7   \n",
       "946    1.442182e+09     LY3009120          BRAF   \n",
       "863    1.459289e+09     LY3009120          BRAF   \n",
       "904             NaN     LY3009120          BRAF   \n",
       "\n",
       "                                       sentence_entity  \\\n",
       "242  different types of @entityb$ , CRAF, pan-RAF, ...   \n",
       "462  Examples of antitumor agents include, but are ...   \n",
       "771   @entitya$ stimulates the production of IL8 in...   \n",
       "49   had similar sensitivities to the RAF dimer inh...   \n",
       "717  In vitro modeling identified @entitya$ as a li...   \n",
       "295  Similarly, Peng et al reported the development...   \n",
       "531  Medi-522 (Vitaxin II), CAI, interleukin 12, IM...   \n",
       "731  surprised to find that pDC and type I IFN were...   \n",
       "946  Further analyses demonstrated that @entitya$ a...   \n",
       "863  H2405 xenograft model, treatment of @entitya$ ...   \n",
       "904  vivo inhibition of @entityb$ V600E mutant in h...   \n",
       "\n",
       "                                                   vec  \n",
       "242  [-0.044095244, -0.55621725, -0.04246768, 0.866...  \n",
       "462  [0.23034076, -0.43675545, 0.2127766, 0.5939804...  \n",
       "771  [-0.18487829, -0.6179698, -1.3152862, -0.16722...  \n",
       "49   [0.2509087, -0.5665901, -0.055666834, 0.482895...  \n",
       "717  [-0.09392955, -0.14364569, -0.35164014, 0.0481...  \n",
       "295  [-0.7187324, -0.3205457, 0.29959294, 0.5385191...  \n",
       "531  [0.008965074, -0.045161266, 0.04292685, 0.9912...  \n",
       "731  [0.6186689, -1.4740883, -0.5704437, -0.3111165...  \n",
       "946  [0.36473313, -0.3090902, 0.6374208, 0.9147596,...  \n",
       "863  [0.76255935, -0.39099362, 0.30664283, 0.169941...  \n",
       "904  [0.06020808, 0.21916056, 0.10410416, 1.2883214...  "
      ]
     },
     "execution_count": 14,
     "metadata": {},
     "output_type": "execute_result"
    }
   ],
   "source": [
    "res"
   ]
  },
  {
   "cell_type": "code",
   "execution_count": null,
   "metadata": {},
   "outputs": [],
   "source": []
  }
 ],
 "metadata": {
  "kernelspec": {
   "display_name": "Python 3",
   "language": "python",
   "name": "python3"
  },
  "language_info": {
   "codemirror_mode": {
    "name": "ipython",
    "version": 3
   },
   "file_extension": ".py",
   "mimetype": "text/x-python",
   "name": "python",
   "nbconvert_exporter": "python",
   "pygments_lexer": "ipython3",
   "version": "3.6.9"
  }
 },
 "nbformat": 4,
 "nbformat_minor": 4
}
